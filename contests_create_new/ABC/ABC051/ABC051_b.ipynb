{
 "cells": [
  {
   "cell_type": "markdown",
   "metadata": {},
   "source": [
"<span class='h2'>B - Sum of Three Integers</span> \n",
"<hr> \n",
"<p>Time Limit: 2 sec / Memory Limit: 256 MB</p> \n",
" \n",
"<div id='task-statement'> \n",
"<span class='lang'>\n"   ]
  }
 ],
 "metadata": {
  "kernelspec": {
   "display_name": "Python 3",
   "language": "python",
   "name": "python3"
  },
  "language_info": {
   "codemirror_mode": {
    "name": "ipython",
    "version": 3
   },
   "file_extension": ".py",
   "mimetype": "text/x-python",
   "name": "python",
   "nbconvert_exporter": "python",
   "pygments_lexer": "ipython3",
   "version": "3.7.1"
  }
 },
 "nbformat": 4,
 "nbformat_minor": 2
}
