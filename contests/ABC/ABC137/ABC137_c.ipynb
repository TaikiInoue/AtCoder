{
 "cells": [
  {
   "cell_type": "markdown",
   "metadata": {},
   "source": [
    "<span class='h2'>C - Green Bin</span> \n",
    "<hr> \n",
    "<p>Time Limit: 2 sec / Memory Limit: 1024 MB</p> \n",
    " \n",
    "<div id='task-statement'> \n",
    "<span class='lang'> \n",
    "<span class='lang-ja'> \n",
    "<p>配点 : <var><span class='MathJax_Preview' style='color: inherit;'><span class='MJXp-math' id='MJXp-Span-1'><span class='MJXp-mn' id='MJXp-Span-2'>300</span></span></span><span id='MathJax-Element-1-Frame' class='mjx-chtml MathJax_CHTML MJXc-processing' tabindex='0'></span><script type='math/tex' id='MathJax-Element-1'>300</script></var> 点</p> \n",
    " \n",
    "<div class='part'> \n",
    "<section> \n",
    "<h3>問題文</h3><p>文字列 <var><span class='MathJax_Preview' style='color: inherit;'><span class='MJXp-math' id='MJXp-Span-3'><span class='MJXp-mi MJXp-italic' id='MJXp-Span-4'>a</span></span></span><span id='MathJax-Element-2-Frame' class='mjx-chtml MathJax_CHTML MJXc-processing' tabindex='0'></span><script type='math/tex' id='MathJax-Element-2'>a</script></var> に含まれる文字を何らかの順序で並べることで得られる文字列を <var><span class='MathJax_Preview' style='color: inherit;'><span class='MJXp-math' id='MJXp-Span-5'><span class='MJXp-mi MJXp-italic' id='MJXp-Span-6'>a</span></span></span><span id='MathJax-Element-3-Frame' class='mjx-chtml MathJax_CHTML MJXc-processing' tabindex='0'></span><script type='math/tex' id='MathJax-Element-3'>a</script></var> の <em>アナグラム</em> と呼びます。</p> \n",
    "<p>例えば、<code>greenbin</code> は <code>beginner</code> のアナグラムです。このように、同じ文字が複数回現れるときはその文字をちょうどその回数だけ使わなければなりません。</p> \n",
    "<p><var><span class='MathJax_Preview' style='color: inherit;'><span class='MJXp-math' id='MJXp-Span-7'><span class='MJXp-mi MJXp-italic' id='MJXp-Span-8'>N</span></span></span><span id='MathJax-Element-4-Frame' class='mjx-chtml MathJax_CHTML MJXc-processing' tabindex='0'></span><script type='math/tex' id='MathJax-Element-4'>N</script></var> 個の文字列 <var><span class='MathJax_Preview' style='color: inherit;'><span class='MJXp-math' id='MJXp-Span-9'><span class='MJXp-msubsup' id='MJXp-Span-10'><span class='MJXp-mi MJXp-italic' id='MJXp-Span-11' style='margin-right: 0.05em;'>s</span><span class='MJXp-mn MJXp-script' id='MJXp-Span-12' style='vertical-align: -0.4em;'>1</span></span><span class='MJXp-mo' id='MJXp-Span-13' style='margin-left: 0em; margin-right: 0.222em;'>,</span><span class='MJXp-msubsup' id='MJXp-Span-14'><span class='MJXp-mi MJXp-italic' id='MJXp-Span-15' style='margin-right: 0.05em;'>s</span><span class='MJXp-mn MJXp-script' id='MJXp-Span-16' style='vertical-align: -0.4em;'>2</span></span><span class='MJXp-mo' id='MJXp-Span-17' style='margin-left: 0em; margin-right: 0.222em;'>,</span><span class='MJXp-mo' id='MJXp-Span-18' style='margin-left: 0em; margin-right: 0em;'>…</span><span class='MJXp-mo' id='MJXp-Span-19' style='margin-left: 0em; margin-right: 0.222em;'>,</span><span class='MJXp-msubsup' id='MJXp-Span-20'><span class='MJXp-mi MJXp-italic' id='MJXp-Span-21' style='margin-right: 0.05em;'>s</span><span class='MJXp-mi MJXp-italic MJXp-script' id='MJXp-Span-22' style='vertical-align: -0.4em;'>N</span></span></span></span><span id='MathJax-Element-5-Frame' class='mjx-chtml MathJax_CHTML MJXc-processing' tabindex='0'></span><script type='math/tex' id='MathJax-Element-5'>s_1, s_2, \\ldots, s_N</script></var> が与えられます。それぞれの文字列は長さが <var><span class='MathJax_Preview' style='color: inherit;'><span class='MJXp-math' id='MJXp-Span-23'><span class='MJXp-mn' id='MJXp-Span-24'>10</span></span></span><span id='MathJax-Element-6-Frame' class='mjx-chtml MathJax_CHTML MJXc-processing' tabindex='0'></span><script type='math/tex' id='MathJax-Element-6'>10</script></var> で英小文字からなり、またこれらの文字列はすべて異なります。二つの整数 <var><span class='MathJax_Preview' style='color: inherit;'><span class='MJXp-math' id='MJXp-Span-25'><span class='MJXp-mi MJXp-italic' id='MJXp-Span-26'>i</span><span class='MJXp-mo' id='MJXp-Span-27' style='margin-left: 0em; margin-right: 0.222em;'>,</span><span class='MJXp-mi MJXp-italic' id='MJXp-Span-28'>j</span></span></span><span id='MathJax-Element-7-Frame' class='mjx-chtml MathJax_CHTML MJXc-processing' tabindex='0'></span><script type='math/tex' id='MathJax-Element-7'>i, j</script></var> <var><span class='MathJax_Preview' style='color: inherit;'><span class='MJXp-math' id='MJXp-Span-29'><span class='MJXp-mo' id='MJXp-Span-30' style='margin-left: 0em; margin-right: 0em;'>(</span><span class='MJXp-mn' id='MJXp-Span-31'>1</span><span class='MJXp-mo' id='MJXp-Span-32' style='margin-left: 0.333em; margin-right: 0.333em;'>≤</span><span class='MJXp-mi MJXp-italic' id='MJXp-Span-33'>i</span><span class='MJXp-mo' id='MJXp-Span-34' style='margin-left: 0.333em; margin-right: 0.333em;'>&lt;</span><span class='MJXp-mi MJXp-italic' id='MJXp-Span-35'>j</span><span class='MJXp-mo' id='MJXp-Span-36' style='margin-left: 0.333em; margin-right: 0.333em;'>≤</span><span class='MJXp-mi MJXp-italic' id='MJXp-Span-37'>N</span><span class='MJXp-mo' id='MJXp-Span-38' style='margin-left: 0em; margin-right: 0em;'>)</span></span></span><span id='MathJax-Element-8-Frame' class='mjx-chtml MathJax_CHTML MJXc-processing' tabindex='0'></span><script type='math/tex' id='MathJax-Element-8'>(1 \\leq i < j \\leq N)</script></var> の組であって、<var><span class='MathJax_Preview' style='color: inherit;'><span class='MJXp-math' id='MJXp-Span-39'><span class='MJXp-msubsup' id='MJXp-Span-40'><span class='MJXp-mi MJXp-italic' id='MJXp-Span-41' style='margin-right: 0.05em;'>s</span><span class='MJXp-mi MJXp-italic MJXp-script' id='MJXp-Span-42' style='vertical-align: -0.4em;'>i</span></span></span></span><span id='MathJax-Element-9-Frame' class='mjx-chtml MathJax_CHTML MJXc-processing' tabindex='0'></span><script type='math/tex' id='MathJax-Element-9'>s_i</script></var> が <var><span class='MathJax_Preview' style='color: inherit;'><span class='MJXp-math' id='MJXp-Span-43'><span class='MJXp-msubsup' id='MJXp-Span-44'><span class='MJXp-mi MJXp-italic' id='MJXp-Span-45' style='margin-right: 0.05em;'>s</span><span class='MJXp-mi MJXp-italic MJXp-script' id='MJXp-Span-46' style='vertical-align: -0.4em;'>j</span></span></span></span><span id='MathJax-Element-10-Frame' class='mjx-chtml MathJax_CHTML MJXc-processing' tabindex='0'></span><script type='math/tex' id='MathJax-Element-10'>s_j</script></var> のアナグラムであるようなものの個数を求めてください。</p> \n",
    "</section> \n",
    "</div> \n",
    " \n",
    "<div class='part'> \n",
    "<section> \n",
    "<h3>制約</h3><ul> \n",
    "<li><var><span class='MathJax_Preview' style='color: inherit;'><span class='MJXp-math' id='MJXp-Span-47'><span class='MJXp-mn' id='MJXp-Span-48'>2</span><span class='MJXp-mo' id='MJXp-Span-49' style='margin-left: 0.333em; margin-right: 0.333em;'>≤</span><span class='MJXp-mi MJXp-italic' id='MJXp-Span-50'>N</span><span class='MJXp-mo' id='MJXp-Span-51' style='margin-left: 0.333em; margin-right: 0.333em;'>≤</span><span class='MJXp-msubsup' id='MJXp-Span-52'><span class='MJXp-mn' id='MJXp-Span-53' style='margin-right: 0.05em;'>10</span><span class='MJXp-mn MJXp-script' id='MJXp-Span-54' style='vertical-align: 0.5em;'>5</span></span></span></span><span id='MathJax-Element-11-Frame' class='mjx-chtml MathJax_CHTML MJXc-processing' tabindex='0'></span><script type='math/tex' id='MathJax-Element-11'>2 \\leq N \\leq 10^5</script></var></li> \n",
    "<li><var><span class='MathJax_Preview' style='color: inherit;'><span class='MJXp-math' id='MJXp-Span-55'><span class='MJXp-msubsup' id='MJXp-Span-56'><span class='MJXp-mi MJXp-italic' id='MJXp-Span-57' style='margin-right: 0.05em;'>s</span><span class='MJXp-mi MJXp-italic MJXp-script' id='MJXp-Span-58' style='vertical-align: -0.4em;'>i</span></span></span></span><span id='MathJax-Element-12-Frame' class='mjx-chtml MathJax_CHTML MJXc-processing' tabindex='0'></span><script type='math/tex' id='MathJax-Element-12'>s_i</script></var> は長さ <var><span class='MathJax_Preview' style='color: inherit;'><span class='MJXp-math' id='MJXp-Span-59'><span class='MJXp-mn' id='MJXp-Span-60'>10</span></span></span><span id='MathJax-Element-13-Frame' class='mjx-chtml MathJax_CHTML MJXc-processing' tabindex='0'></span><script type='math/tex' id='MathJax-Element-13'>10</script></var> の文字列である。</li> \n",
    "<li><var><span class='MathJax_Preview' style='color: inherit;'><span class='MJXp-math' id='MJXp-Span-61'><span class='MJXp-msubsup' id='MJXp-Span-62'><span class='MJXp-mi MJXp-italic' id='MJXp-Span-63' style='margin-right: 0.05em;'>s</span><span class='MJXp-mi MJXp-italic MJXp-script' id='MJXp-Span-64' style='vertical-align: -0.4em;'>i</span></span></span></span><span id='MathJax-Element-14-Frame' class='mjx-chtml MathJax_CHTML MJXc-processing' tabindex='0'></span><script type='math/tex' id='MathJax-Element-14'>s_i</script></var> の各文字は英小文字である。</li> \n",
    "<li><var><span class='MathJax_Preview' style='color: inherit;'><span class='MJXp-math' id='MJXp-Span-65'><span class='MJXp-msubsup' id='MJXp-Span-66'><span class='MJXp-mi MJXp-italic' id='MJXp-Span-67' style='margin-right: 0.05em;'>s</span><span class='MJXp-mn MJXp-script' id='MJXp-Span-68' style='vertical-align: -0.4em;'>1</span></span><span class='MJXp-mo' id='MJXp-Span-69' style='margin-left: 0em; margin-right: 0.222em;'>,</span><span class='MJXp-msubsup' id='MJXp-Span-70'><span class='MJXp-mi MJXp-italic' id='MJXp-Span-71' style='margin-right: 0.05em;'>s</span><span class='MJXp-mn MJXp-script' id='MJXp-Span-72' style='vertical-align: -0.4em;'>2</span></span><span class='MJXp-mo' id='MJXp-Span-73' style='margin-left: 0em; margin-right: 0.222em;'>,</span><span class='MJXp-mo' id='MJXp-Span-74' style='margin-left: 0em; margin-right: 0em;'>…</span><span class='MJXp-mo' id='MJXp-Span-75' style='margin-left: 0em; margin-right: 0.222em;'>,</span><span class='MJXp-msubsup' id='MJXp-Span-76'><span class='MJXp-mi MJXp-italic' id='MJXp-Span-77' style='margin-right: 0.05em;'>s</span><span class='MJXp-mi MJXp-italic MJXp-script' id='MJXp-Span-78' style='vertical-align: -0.4em;'>N</span></span></span></span><span id='MathJax-Element-15-Frame' class='mjx-chtml MathJax_CHTML MJXc-processing' tabindex='0'></span><script type='math/tex' id='MathJax-Element-15'>s_1, s_2, \\ldots, s_N</script></var> はすべて異なる。</li> \n",
    "</ul> \n",
    "</section> \n",
    "</div> \n",
    " \n",
    "<hr> \n",
    "<div class='io-style'> \n",
    "<div class='part'> \n",
    "<section> \n",
    "<h3>入力</h3><p>入力は以下の形式で標準入力から与えられる。</p> \n",
    "<pre><var><span class='MathJax_Preview' style='color: inherit;'><span class='MJXp-math' id='MJXp-Span-79'><span class='MJXp-mi MJXp-italic' id='MJXp-Span-80'>N</span></span></span><span id='MathJax-Element-16-Frame' class='mjx-chtml MathJax_CHTML MJXc-processing' tabindex='0'></span><script type='math/tex' id='MathJax-Element-16'>N</script></var> \n",
    "<var><span class='MathJax_Preview' style='color: inherit;'><span class='MJXp-math' id='MJXp-Span-81'><span class='MJXp-msubsup' id='MJXp-Span-82'><span class='MJXp-mi MJXp-italic' id='MJXp-Span-83' style='margin-right: 0.05em;'>s</span><span class='MJXp-mn MJXp-script' id='MJXp-Span-84' style='vertical-align: -0.4em;'>1</span></span></span></span><span id='MathJax-Element-17-Frame' class='mjx-chtml MathJax_CHTML MJXc-processing' tabindex='0'></span><script type='math/tex' id='MathJax-Element-17'>s_1</script></var> \n",
    "<var><span class='MathJax_Preview' style='color: inherit;'><span class='MJXp-math' id='MJXp-Span-85'><span class='MJXp-msubsup' id='MJXp-Span-86'><span class='MJXp-mi MJXp-italic' id='MJXp-Span-87' style='margin-right: 0.05em;'>s</span><span class='MJXp-mn MJXp-script' id='MJXp-Span-88' style='vertical-align: -0.4em;'>2</span></span></span></span><span id='MathJax-Element-18-Frame' class='mjx-chtml MathJax_CHTML MJXc-processing' tabindex='0'></span><script type='math/tex' id='MathJax-Element-18'>s_2</script></var> \n",
    "<var><span class='MathJax_Preview' style='color: inherit;'><span class='MJXp-math' id='MJXp-Span-89'><span class='MJXp-mo' id='MJXp-Span-90' style='margin-left: 0.111em; margin-right: 0.167em;'>:</span></span></span><span id='MathJax-Element-19-Frame' class='mjx-chtml MathJax_CHTML MJXc-processing' tabindex='0'></span><script type='math/tex' id='MathJax-Element-19'>:</script></var> \n",
    "<var><span class='MathJax_Preview' style='color: inherit;'><span class='MJXp-math' id='MJXp-Span-91'><span class='MJXp-msubsup' id='MJXp-Span-92'><span class='MJXp-mi MJXp-italic' id='MJXp-Span-93' style='margin-right: 0.05em;'>s</span><span class='MJXp-mi MJXp-italic MJXp-script' id='MJXp-Span-94' style='vertical-align: -0.4em;'>N</span></span></span></span><span id='MathJax-Element-20-Frame' class='mjx-chtml MathJax_CHTML MJXc-processing' tabindex='0'></span><script type='math/tex' id='MathJax-Element-20'>s_N</script></var> \n",
    "</pre> \n",
    " \n",
    "</section> \n",
    "</div> \n",
    " \n",
    "<div class='part'> \n",
    "<section> \n",
    "<h3>出力</h3><p>二つの整数 <var><span class='MathJax_Preview' style='color: inherit;'><span class='MJXp-math' id='MJXp-Span-95'><span class='MJXp-mi MJXp-italic' id='MJXp-Span-96'>i</span><span class='MJXp-mo' id='MJXp-Span-97' style='margin-left: 0em; margin-right: 0.222em;'>,</span><span class='MJXp-mi MJXp-italic' id='MJXp-Span-98'>j</span></span></span><span id='MathJax-Element-21-Frame' class='mjx-chtml MathJax_CHTML MJXc-processing' tabindex='0'></span><script type='math/tex' id='MathJax-Element-21'>i, j</script></var> <var><span class='MathJax_Preview' style='color: inherit;'><span class='MJXp-math' id='MJXp-Span-99'><span class='MJXp-mo' id='MJXp-Span-100' style='margin-left: 0em; margin-right: 0em;'>(</span><span class='MJXp-mn' id='MJXp-Span-101'>1</span><span class='MJXp-mo' id='MJXp-Span-102' style='margin-left: 0.333em; margin-right: 0.333em;'>≤</span><span class='MJXp-mi MJXp-italic' id='MJXp-Span-103'>i</span><span class='MJXp-mo' id='MJXp-Span-104' style='margin-left: 0.333em; margin-right: 0.333em;'>&lt;</span><span class='MJXp-mi MJXp-italic' id='MJXp-Span-105'>j</span><span class='MJXp-mo' id='MJXp-Span-106' style='margin-left: 0.333em; margin-right: 0.333em;'>≤</span><span class='MJXp-mi MJXp-italic' id='MJXp-Span-107'>N</span><span class='MJXp-mo' id='MJXp-Span-108' style='margin-left: 0em; margin-right: 0em;'>)</span></span></span><span id='MathJax-Element-22-Frame' class='mjx-chtml MathJax_CHTML MJXc-processing' tabindex='0'></span><script type='math/tex' id='MathJax-Element-22'>(1 \\leq i < j \\leq N)</script></var> の組であって、<var><span class='MathJax_Preview' style='color: inherit;'><span class='MJXp-math' id='MJXp-Span-109'><span class='MJXp-msubsup' id='MJXp-Span-110'><span class='MJXp-mi MJXp-italic' id='MJXp-Span-111' style='margin-right: 0.05em;'>s</span><span class='MJXp-mi MJXp-italic MJXp-script' id='MJXp-Span-112' style='vertical-align: -0.4em;'>i</span></span></span></span><span id='MathJax-Element-23-Frame' class='mjx-chtml MathJax_CHTML MJXc-processing' tabindex='0'></span><script type='math/tex' id='MathJax-Element-23'>s_i</script></var> が <var><span class='MathJax_Preview' style='color: inherit;'><span class='MJXp-math' id='MJXp-Span-113'><span class='MJXp-msubsup' id='MJXp-Span-114'><span class='MJXp-mi MJXp-italic' id='MJXp-Span-115' style='margin-right: 0.05em;'>s</span><span class='MJXp-mi MJXp-italic MJXp-script' id='MJXp-Span-116' style='vertical-align: -0.4em;'>j</span></span></span></span><span id='MathJax-Element-24-Frame' class='mjx-chtml MathJax_CHTML MJXc-processing' tabindex='0'></span><script type='math/tex' id='MathJax-Element-24'>s_j</script></var> のアナグラムであるようなものの個数を出力せよ。</p> \n",
    "</section> \n",
    "</div> \n",
    "</div> \n",
    " \n",
    "<hr> \n",
    "<div class='part'> \n",
    "<section> \n",
    "<h3>入力例 1 <span class='btn btn-default btn-sm btn-copy' tabindex='0' data-toggle='tooltip' data-trigger='manual' title='' data-target='pre-sample0' data-original-title='Copied!'>Copy</span></h3><div class='div-btn-copy'><span class='btn-copy btn-pre' tabindex='0' data-toggle='tooltip' data-trigger='manual' title='' style='display: none;' data-target='pre-sample0' data-original-title='Copied!'>Copy</span></div><pre id='pre-sample0'>3 \n",
    "acornistnt \n",
    "peanutbomb \n",
    "constraint \n",
    "</pre> \n",
    " \n",
    "</section> \n",
    "</div> \n",
    " \n",
    "<div class='part'> \n",
    "<section> \n",
    "<h3>出力例 1 <span class='btn btn-default btn-sm btn-copy' tabindex='0' data-toggle='tooltip' data-trigger='manual' title='' data-target='pre-sample1' data-original-title='Copied!'>Copy</span></h3><div class='div-btn-copy'><span class='btn-copy btn-pre' tabindex='0' data-toggle='tooltip' data-trigger='manual' title='' style='display: none;' data-target='pre-sample1' data-original-title='Copied!'>Copy</span></div><pre id='pre-sample1'>1 \n",
    "</pre> \n",
    " \n",
    "<p><var><span class='MathJax_Preview' style='color: inherit;'><span class='MJXp-math' id='MJXp-Span-117'><span class='MJXp-msubsup' id='MJXp-Span-118'><span class='MJXp-mi MJXp-italic' id='MJXp-Span-119' style='margin-right: 0.05em;'>s</span><span class='MJXp-mn MJXp-script' id='MJXp-Span-120' style='vertical-align: -0.4em;'>1</span></span><span class='MJXp-mo' id='MJXp-Span-121' style='margin-left: 0.333em; margin-right: 0.333em;'>=</span></span></span><span id='MathJax-Element-25-Frame' class='mjx-chtml MathJax_CHTML MJXc-processing' tabindex='0'></span><script type='math/tex' id='MathJax-Element-25'>s_1 =</script></var> <code>acornistnt</code> は <var><span class='MathJax_Preview' style='color: inherit;'><span class='MJXp-math' id='MJXp-Span-122'><span class='MJXp-msubsup' id='MJXp-Span-123'><span class='MJXp-mi MJXp-italic' id='MJXp-Span-124' style='margin-right: 0.05em;'>s</span><span class='MJXp-mn MJXp-script' id='MJXp-Span-125' style='vertical-align: -0.4em;'>3</span></span><span class='MJXp-mo' id='MJXp-Span-126' style='margin-left: 0.333em; margin-right: 0.333em;'>=</span></span></span><span id='MathJax-Element-26-Frame' class='mjx-chtml MathJax_CHTML MJXc-processing' tabindex='0'></span><script type='math/tex' id='MathJax-Element-26'>s_3 =</script></var> <code>constraint</code> のアナグラムです。他に <var><span class='MathJax_Preview' style='color: inherit;'><span class='MJXp-math' id='MJXp-Span-127'><span class='MJXp-msubsup' id='MJXp-Span-128'><span class='MJXp-mi MJXp-italic' id='MJXp-Span-129' style='margin-right: 0.05em;'>s</span><span class='MJXp-mi MJXp-italic MJXp-script' id='MJXp-Span-130' style='vertical-align: -0.4em;'>i</span></span></span></span><span id='MathJax-Element-27-Frame' class='mjx-chtml MathJax_CHTML MJXc-processing' tabindex='0'></span><script type='math/tex' id='MathJax-Element-27'>s_i</script></var> が <var><span class='MathJax_Preview' style='color: inherit;'><span class='MJXp-math' id='MJXp-Span-131'><span class='MJXp-msubsup' id='MJXp-Span-132'><span class='MJXp-mi MJXp-italic' id='MJXp-Span-133' style='margin-right: 0.05em;'>s</span><span class='MJXp-mi MJXp-italic MJXp-script' id='MJXp-Span-134' style='vertical-align: -0.4em;'>j</span></span></span></span><span id='MathJax-Element-28-Frame' class='mjx-chtml MathJax_CHTML MJXc-processing' tabindex='0'></span><script type='math/tex' id='MathJax-Element-28'>s_j</script></var> のアナグラムであるような <var><span class='MathJax_Preview' style='color: inherit;'><span class='MJXp-math' id='MJXp-Span-135'><span class='MJXp-mi MJXp-italic' id='MJXp-Span-136'>i</span><span class='MJXp-mo' id='MJXp-Span-137' style='margin-left: 0em; margin-right: 0.222em;'>,</span><span class='MJXp-mi MJXp-italic' id='MJXp-Span-138'>j</span></span></span><span id='MathJax-Element-29-Frame' class='mjx-chtml MathJax_CHTML MJXc-processing' tabindex='0'></span><script type='math/tex' id='MathJax-Element-29'>i, j</script></var> の組はないため、答えは <var><span class='MathJax_Preview' style='color: inherit;'><span class='MJXp-math' id='MJXp-Span-139'><span class='MJXp-mn' id='MJXp-Span-140'>1</span></span></span><span id='MathJax-Element-30-Frame' class='mjx-chtml MathJax_CHTML MJXc-processing' tabindex='0'></span><script type='math/tex' id='MathJax-Element-30'>1</script></var> です。</p> \n",
    "</section> \n",
    "</div> \n",
    " \n",
    "<hr> \n",
    "<div class='part'> \n",
    "<section> \n",
    "<h3>入力例 2 <span class='btn btn-default btn-sm btn-copy' tabindex='0' data-toggle='tooltip' data-trigger='manual' title='' data-target='pre-sample2' data-original-title='Copied!'>Copy</span></h3><div class='div-btn-copy'><span class='btn-copy btn-pre' tabindex='0' data-toggle='tooltip' data-trigger='manual' title='' style='display: none;' data-target='pre-sample2' data-original-title='Copied!'>Copy</span></div><pre id='pre-sample2'>2 \n",
    "oneplustwo \n",
    "ninemodsix \n",
    "</pre> \n",
    " \n",
    "</section> \n",
    "</div> \n",
    " \n",
    "<div class='part'> \n",
    "<section> \n",
    "<h3>出力例 2 <span class='btn btn-default btn-sm btn-copy' tabindex='0' data-toggle='tooltip' data-trigger='manual' title='' data-target='pre-sample3' data-original-title='Copied!'>Copy</span></h3><div class='div-btn-copy'><span class='btn-copy btn-pre' tabindex='0' data-toggle='tooltip' data-trigger='manual' title='' style='display: none;' data-target='pre-sample3' data-original-title='Copied!'>Copy</span></div><pre id='pre-sample3'>0 \n",
    "</pre> \n",
    " \n",
    "<p><var><span class='MathJax_Preview' style='color: inherit;'><span class='MJXp-math' id='MJXp-Span-141'><span class='MJXp-msubsup' id='MJXp-Span-142'><span class='MJXp-mi MJXp-italic' id='MJXp-Span-143' style='margin-right: 0.05em;'>s</span><span class='MJXp-mi MJXp-italic MJXp-script' id='MJXp-Span-144' style='vertical-align: -0.4em;'>i</span></span></span></span><span id='MathJax-Element-31-Frame' class='mjx-chtml MathJax_CHTML MJXc-processing' tabindex='0'></span><script type='math/tex' id='MathJax-Element-31'>s_i</script></var> が <var><span class='MathJax_Preview' style='color: inherit;'><span class='MJXp-math' id='MJXp-Span-145'><span class='MJXp-msubsup' id='MJXp-Span-146'><span class='MJXp-mi MJXp-italic' id='MJXp-Span-147' style='margin-right: 0.05em;'>s</span><span class='MJXp-mi MJXp-italic MJXp-script' id='MJXp-Span-148' style='vertical-align: -0.4em;'>j</span></span></span></span><span id='MathJax-Element-32-Frame' class='mjx-chtml MathJax_CHTML MJXc-processing' tabindex='0'></span><script type='math/tex' id='MathJax-Element-32'>s_j</script></var> のアナグラムであるような <var><span class='MathJax_Preview' style='color: inherit;'><span class='MJXp-math' id='MJXp-Span-149'><span class='MJXp-mi MJXp-italic' id='MJXp-Span-150'>i</span><span class='MJXp-mo' id='MJXp-Span-151' style='margin-left: 0em; margin-right: 0.222em;'>,</span><span class='MJXp-mi MJXp-italic' id='MJXp-Span-152'>j</span></span></span><span id='MathJax-Element-33-Frame' class='mjx-chtml MathJax_CHTML MJXc-processing' tabindex='0'></span><script type='math/tex' id='MathJax-Element-33'>i, j</script></var> の組がないときは <var><span class='MathJax_Preview' style='color: inherit;'><span class='MJXp-math' id='MJXp-Span-153'><span class='MJXp-mn' id='MJXp-Span-154'>0</span></span></span><span id='MathJax-Element-34-Frame' class='mjx-chtml MathJax_CHTML MJXc-processing' tabindex='0'></span><script type='math/tex' id='MathJax-Element-34'>0</script></var> と出力してください。</p> \n",
    "</section> \n",
    "</div> \n",
    " \n",
    "<hr> \n",
    "<div class='part'> \n",
    "<section> \n",
    "<h3>入力例 3 <span class='btn btn-default btn-sm btn-copy' tabindex='0' data-toggle='tooltip' data-trigger='manual' title='' data-target='pre-sample4' data-original-title='Copied!'>Copy</span></h3><div class='div-btn-copy'><span class='btn-copy btn-pre' tabindex='0' data-toggle='tooltip' data-trigger='manual' title='' style='display: none;' data-target='pre-sample4' data-original-title='Copied!'>Copy</span></div><pre id='pre-sample4'>5 \n",
    "abaaaaaaaa \n",
    "oneplustwo \n",
    "aaaaaaaaba \n",
    "twoplusone \n",
    "aaaabaaaaa \n",
    "</pre> \n",
    " \n",
    "</section> \n",
    "</div> \n",
    " \n",
    "<div class='part'> \n",
    "<section> \n",
    "<h3>出力例 3 <span class='btn btn-default btn-sm btn-copy' tabindex='0' data-toggle='tooltip' data-trigger='manual' title='' data-target='pre-sample5' data-original-title='Copied!'>Copy</span></h3><div class='div-btn-copy'><span class='btn-copy btn-pre' tabindex='0' data-toggle='tooltip' data-trigger='manual' title='' style='display: none;' data-target='pre-sample5' data-original-title='Copied!'>Copy</span></div><pre id='pre-sample5'>4 \n",
    "</pre> \n",
    " \n",
    "<p>ここにそのようなケースを置くことはできませんが、答えは <var><span class='MathJax_Preview' style='color: inherit;'><span class='MJXp-math' id='MJXp-Span-155'><span class='MJXp-mn' id='MJXp-Span-156'>32</span></span></span><span id='MathJax-Element-35-Frame' class='mjx-chtml MathJax_CHTML MJXc-processing' tabindex='0'></span><script type='math/tex' id='MathJax-Element-35'>32</script></var> bit 整数型に収まらない可能性があるので注意してください。</p></section> \n",
    "</div> \n",
    "</span>\n"
   ]
  },
  {
   "cell_type": "code",
   "execution_count": 3,
   "metadata": {},
   "outputs": [
    {
     "data": {
      "application/vnd.jupyter.widget-view+json": {
       "model_id": "4ea95162eccd42fb8d0218551ddffacf",
       "version_major": 2,
       "version_minor": 0
      },
      "text/plain": [
       "Textarea(value='')"
      ]
     },
     "metadata": {},
     "output_type": "display_data"
    }
   ],
   "source": [
    "from ipywidgets import Textarea\n",
    "import sys\n",
    "sys.path.append('C:/Users/taiki/github/AtCoder')\n",
    "\n",
    "from utils.multi_line_input import multi_line_input\n",
    "text_area = Textarea()\n",
    "input = multi_line_input()\n",
    "\n",
    "display(text_area)"
   ]
  },
  {
   "cell_type": "code",
   "execution_count": 4,
   "metadata": {},
   "outputs": [
    {
     "name": "stdout",
     "output_type": "stream",
     "text": [
      "4\n"
     ]
    }
   ],
   "source": [
    "import numpy as np\n",
    "import math\n",
    "\n",
    "n = int(input())\n",
    "S = [sorted(input()) for _ in range(n)]\n",
    "S = np.array(S)\n",
    "uniq, cnt = np.unique(S, return_counts=True, axis=0)\n",
    "ans = 0\n",
    "for n in cnt:\n",
    "    ans += math.factorial(n) / math.factorial(2) / math.factorial(n - 2)\n",
    "print(int(ans))"
   ]
  }
 ],
 "metadata": {
  "kernelspec": {
   "display_name": "Python 3",
   "language": "python",
   "name": "python3"
  },
  "language_info": {
   "codemirror_mode": {
    "name": "ipython",
    "version": 3
   },
   "file_extension": ".py",
   "mimetype": "text/x-python",
   "name": "python",
   "nbconvert_exporter": "python",
   "pygments_lexer": "ipython3",
   "version": "3.7.1"
  }
 },
 "nbformat": 4,
 "nbformat_minor": 2
}
