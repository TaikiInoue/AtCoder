{
 "cells": [
  {
   "cell_type": "markdown",
   "metadata": {},
   "source": [
    "<span class='h2'>B - One Clue</span> \n",
    "<hr> \n",
    "<p>Time Limit: 2 sec / Memory Limit: 1024 MB</p> \n",
    " \n",
    "<div id='task-statement'> \n",
    "<span class='lang'> \n",
    "<span class='lang-ja'> \n",
    "<p>配点 : <var><span class='MathJax_Preview' style='color: inherit;'><span class='MJXp-math' id='MJXp-Span-1'><span class='MJXp-mn' id='MJXp-Span-2'>200</span></span></span><span id='MathJax-Element-1-Frame' class='mjx-chtml MathJax_CHTML MJXc-processing' tabindex='0'></span><script type='math/tex' id='MathJax-Element-1'>200</script></var> 点</p> \n",
    " \n",
    "<div class='part'> \n",
    "<section> \n",
    "<h3>問題文</h3><p>数直線上に <var><span class='MathJax_Preview' style='color: inherit;'><span class='MJXp-math' id='MJXp-Span-3'><span class='MJXp-mn' id='MJXp-Span-4'>2000001</span></span></span><span id='MathJax-Element-2-Frame' class='mjx-chtml MathJax_CHTML MJXc-processing' tabindex='0'></span><script type='math/tex' id='MathJax-Element-2'>2000001</script></var> 個の石が置かれています。これらの石の座標は <var><span class='MathJax_Preview' style='color: inherit;'><span class='MJXp-math' id='MJXp-Span-5'><span class='MJXp-mo' id='MJXp-Span-6' style='margin-left: 0em; margin-right: 0.111em;'>−</span><span class='MJXp-mn' id='MJXp-Span-7'>1000000</span><span class='MJXp-mo' id='MJXp-Span-8' style='margin-left: 0em; margin-right: 0.222em;'>,</span><span class='MJXp-mo' id='MJXp-Span-9' style='margin-left: 0.267em; margin-right: 0.267em;'>−</span><span class='MJXp-mn' id='MJXp-Span-10'>999999</span><span class='MJXp-mo' id='MJXp-Span-11' style='margin-left: 0em; margin-right: 0.222em;'>,</span><span class='MJXp-mo' id='MJXp-Span-12' style='margin-left: 0.267em; margin-right: 0.267em;'>−</span><span class='MJXp-mn' id='MJXp-Span-13'>999998</span><span class='MJXp-mo' id='MJXp-Span-14' style='margin-left: 0em; margin-right: 0.222em;'>,</span><span class='MJXp-mo' id='MJXp-Span-15' style='margin-left: 0em; margin-right: 0em;'>…</span><span class='MJXp-mo' id='MJXp-Span-16' style='margin-left: 0em; margin-right: 0.222em;'>,</span><span class='MJXp-mn' id='MJXp-Span-17'>999999</span><span class='MJXp-mo' id='MJXp-Span-18' style='margin-left: 0em; margin-right: 0.222em;'>,</span><span class='MJXp-mn' id='MJXp-Span-19'>1000000</span></span></span><span id='MathJax-Element-3-Frame' class='mjx-chtml MathJax_CHTML MJXc-processing' tabindex='0'></span><script type='math/tex' id='MathJax-Element-3'>-1000000, -999999, -999998, \\ldots, 999999, 1000000</script></var> です。</p> \n",
    "<p>これらの石のうち、ある連続する <var><span class='MathJax_Preview' style='color: inherit;'><span class='MJXp-math' id='MJXp-Span-20'><span class='MJXp-mi MJXp-italic' id='MJXp-Span-21'>K</span></span></span><span id='MathJax-Element-4-Frame' class='mjx-chtml MathJax_CHTML MJXc-processing' tabindex='0'></span><script type='math/tex' id='MathJax-Element-4'>K</script></var> 個の石が黒で塗られており、それ以外の石は白で塗られています。</p> \n",
    "<p>また、座標 <var><span class='MathJax_Preview' style='color: inherit;'><span class='MJXp-math' id='MJXp-Span-22'><span class='MJXp-mi MJXp-italic' id='MJXp-Span-23'>X</span></span></span><span id='MathJax-Element-5-Frame' class='mjx-chtml MathJax_CHTML MJXc-processing' tabindex='0'></span><script type='math/tex' id='MathJax-Element-5'>X</script></var> にある石は黒で塗られていることが分かっています。</p> \n",
    "<p>黒で塗られている石が置かれている可能性のある座標をすべて、小さい順に出力してください。</p> \n",
    "</section> \n",
    "</div> \n",
    " \n",
    "<div class='part'> \n",
    "<section> \n",
    "<h3>制約</h3><ul> \n",
    "<li><var><span class='MathJax_Preview' style='color: inherit;'><span class='MJXp-math' id='MJXp-Span-24'><span class='MJXp-mn' id='MJXp-Span-25'>1</span><span class='MJXp-mo' id='MJXp-Span-26' style='margin-left: 0.333em; margin-right: 0.333em;'>≤</span><span class='MJXp-mi MJXp-italic' id='MJXp-Span-27'>K</span><span class='MJXp-mo' id='MJXp-Span-28' style='margin-left: 0.333em; margin-right: 0.333em;'>≤</span><span class='MJXp-mn' id='MJXp-Span-29'>100</span></span></span><span id='MathJax-Element-6-Frame' class='mjx-chtml MathJax_CHTML MJXc-processing' tabindex='0'></span><script type='math/tex' id='MathJax-Element-6'>1 \\leq K \\leq 100</script></var></li> \n",
    "<li><var><span class='MathJax_Preview' style='color: inherit;'><span class='MJXp-math' id='MJXp-Span-30'><span class='MJXp-mn' id='MJXp-Span-31'>0</span><span class='MJXp-mo' id='MJXp-Span-32' style='margin-left: 0.333em; margin-right: 0.333em;'>≤</span><span class='MJXp-mi MJXp-italic' id='MJXp-Span-33'>X</span><span class='MJXp-mo' id='MJXp-Span-34' style='margin-left: 0.333em; margin-right: 0.333em;'>≤</span><span class='MJXp-mn' id='MJXp-Span-35'>100</span></span></span><span id='MathJax-Element-7-Frame' class='mjx-chtml MathJax_CHTML MJXc-processing' tabindex='0'></span><script type='math/tex' id='MathJax-Element-7'>0 \\leq X \\leq 100</script></var></li> \n",
    "<li>入力中の値はすべて整数である。</li> \n",
    "</ul> \n",
    "</section> \n",
    "</div> \n",
    " \n",
    "<hr> \n",
    "<div class='io-style'> \n",
    "<div class='part'> \n",
    "<section> \n",
    "<h3>入力</h3><p>入力は以下の形式で標準入力から与えられる。</p> \n",
    "<pre><var><span class='MathJax_Preview' style='color: inherit;'><span class='MJXp-math' id='MJXp-Span-36'><span class='MJXp-mi MJXp-italic' id='MJXp-Span-37'>K</span></span></span><span id='MathJax-Element-8-Frame' class='mjx-chtml MathJax_CHTML MJXc-processing' tabindex='0'></span><script type='math/tex' id='MathJax-Element-8'>K</script></var> <var><span class='MathJax_Preview' style='color: inherit;'><span class='MJXp-math' id='MJXp-Span-38'><span class='MJXp-mi MJXp-italic' id='MJXp-Span-39'>X</span></span></span><span id='MathJax-Element-9-Frame' class='mjx-chtml MathJax_CHTML MJXc-processing' tabindex='0'></span><script type='math/tex' id='MathJax-Element-9'>X</script></var> \n",
    "</pre> \n",
    " \n",
    "</section> \n",
    "</div> \n",
    " \n",
    "<div class='part'> \n",
    "<section> \n",
    "<h3>出力</h3><p>黒で塗られている石が置かれている可能性のある座標をすべて、空白で区切って小さい順に出力せよ。</p> \n",
    "</section> \n",
    "</div> \n",
    "</div> \n",
    " \n",
    "<hr> \n",
    "<div class='part'> \n",
    "<section> \n",
    "<h3>入力例 1 <span class='btn btn-default btn-sm btn-copy' tabindex='0' data-toggle='tooltip' data-trigger='manual' title='' data-target='pre-sample0' data-original-title='Copied!'>Copy</span></h3><div class='div-btn-copy'><span class='btn-copy btn-pre' tabindex='0' data-toggle='tooltip' data-trigger='manual' title='' style='display: none;' data-target='pre-sample0' data-original-title='Copied!'>Copy</span></div><pre id='pre-sample0'>3 7 \n",
    "</pre> \n",
    " \n",
    "</section> \n",
    "</div> \n",
    " \n",
    "<div class='part'> \n",
    "<section> \n",
    "<h3>出力例 1 <span class='btn btn-default btn-sm btn-copy' tabindex='0' data-toggle='tooltip' data-trigger='manual' title='' data-target='pre-sample1' data-original-title='Copied!'>Copy</span></h3><div class='div-btn-copy'><span class='btn-copy btn-pre' tabindex='0' data-toggle='tooltip' data-trigger='manual' title='' style='display: none;' data-target='pre-sample1' data-original-title='Copied!'>Copy</span></div><pre id='pre-sample1'>5 6 7 8 9 \n",
    "</pre> \n",
    " \n",
    "<p>黒で塗られた石の数が <var><span class='MathJax_Preview' style='color: inherit;'><span class='MJXp-math' id='MJXp-Span-40'><span class='MJXp-mn' id='MJXp-Span-41'>3</span></span></span><span id='MathJax-Element-10-Frame' class='mjx-chtml MathJax_CHTML MJXc-processing' tabindex='0'></span><script type='math/tex' id='MathJax-Element-10'>3</script></var> 個であることと、座標 <var><span class='MathJax_Preview' style='color: inherit;'><span class='MJXp-math' id='MJXp-Span-42'><span class='MJXp-mn' id='MJXp-Span-43'>7</span></span></span><span id='MathJax-Element-11-Frame' class='mjx-chtml MathJax_CHTML MJXc-processing' tabindex='0'></span><script type='math/tex' id='MathJax-Element-11'>7</script></var> の石が黒で塗られていることが分かっています。このとき、次の <var><span class='MathJax_Preview' style='color: inherit;'><span class='MJXp-math' id='MJXp-Span-44'><span class='MJXp-mn' id='MJXp-Span-45'>3</span></span></span><span id='MathJax-Element-12-Frame' class='mjx-chtml MathJax_CHTML MJXc-processing' tabindex='0'></span><script type='math/tex' id='MathJax-Element-12'>3</script></var> 通りの可能性が考えられます。</p> \n",
    "<ul> \n",
    "<li>黒で塗られた <var><span class='MathJax_Preview' style='color: inherit;'><span class='MJXp-math' id='MJXp-Span-46'><span class='MJXp-mn' id='MJXp-Span-47'>3</span></span></span><span id='MathJax-Element-13-Frame' class='mjx-chtml MathJax_CHTML MJXc-processing' tabindex='0'></span><script type='math/tex' id='MathJax-Element-13'>3</script></var> 個の石は座標 <var><span class='MathJax_Preview' style='color: inherit;'><span class='MJXp-math' id='MJXp-Span-48'><span class='MJXp-mn' id='MJXp-Span-49'>5</span><span class='MJXp-mo' id='MJXp-Span-50' style='margin-left: 0em; margin-right: 0.222em;'>,</span><span class='MJXp-mn' id='MJXp-Span-51'>6</span><span class='MJXp-mo' id='MJXp-Span-52' style='margin-left: 0em; margin-right: 0.222em;'>,</span><span class='MJXp-mn' id='MJXp-Span-53'>7</span></span></span><span id='MathJax-Element-14-Frame' class='mjx-chtml MathJax_CHTML MJXc-processing' tabindex='0'></span><script type='math/tex' id='MathJax-Element-14'>5,6,7</script></var> に置かれている。</li> \n",
    "<li>黒で塗られた <var><span class='MathJax_Preview' style='color: inherit;'><span class='MJXp-math' id='MJXp-Span-54'><span class='MJXp-mn' id='MJXp-Span-55'>3</span></span></span><span id='MathJax-Element-15-Frame' class='mjx-chtml MathJax_CHTML MJXc-processing' tabindex='0'></span><script type='math/tex' id='MathJax-Element-15'>3</script></var> 個の石は座標 <var><span class='MathJax_Preview' style='color: inherit;'><span class='MJXp-math' id='MJXp-Span-56'><span class='MJXp-mn' id='MJXp-Span-57'>6</span><span class='MJXp-mo' id='MJXp-Span-58' style='margin-left: 0em; margin-right: 0.222em;'>,</span><span class='MJXp-mn' id='MJXp-Span-59'>7</span><span class='MJXp-mo' id='MJXp-Span-60' style='margin-left: 0em; margin-right: 0.222em;'>,</span><span class='MJXp-mn' id='MJXp-Span-61'>8</span></span></span><span id='MathJax-Element-16-Frame' class='mjx-chtml MathJax_CHTML MJXc-processing' tabindex='0'></span><script type='math/tex' id='MathJax-Element-16'>6,7,8</script></var> に置かれている。</li> \n",
    "<li>黒で塗られた <var><span class='MathJax_Preview' style='color: inherit;'><span class='MJXp-math' id='MJXp-Span-62'><span class='MJXp-mn' id='MJXp-Span-63'>3</span></span></span><span id='MathJax-Element-17-Frame' class='mjx-chtml MathJax_CHTML MJXc-processing' tabindex='0'></span><script type='math/tex' id='MathJax-Element-17'>3</script></var> 個の石は座標 <var><span class='MathJax_Preview' style='color: inherit;'><span class='MJXp-math' id='MJXp-Span-64'><span class='MJXp-mn' id='MJXp-Span-65'>7</span><span class='MJXp-mo' id='MJXp-Span-66' style='margin-left: 0em; margin-right: 0.222em;'>,</span><span class='MJXp-mn' id='MJXp-Span-67'>8</span><span class='MJXp-mo' id='MJXp-Span-68' style='margin-left: 0em; margin-right: 0.222em;'>,</span><span class='MJXp-mn' id='MJXp-Span-69'>9</span></span></span><span id='MathJax-Element-18-Frame' class='mjx-chtml MathJax_CHTML MJXc-processing' tabindex='0'></span><script type='math/tex' id='MathJax-Element-18'>7,8,9</script></var> に置かれている。</li> \n",
    "</ul> \n",
    "<p>よって、黒で塗られている石が置かれている可能性のある座標は <var><span class='MathJax_Preview' style='color: inherit;'><span class='MJXp-math' id='MJXp-Span-70'><span class='MJXp-mn' id='MJXp-Span-71'>5</span><span class='MJXp-mo' id='MJXp-Span-72' style='margin-left: 0em; margin-right: 0.222em;'>,</span><span class='MJXp-mn' id='MJXp-Span-73'>6</span><span class='MJXp-mo' id='MJXp-Span-74' style='margin-left: 0em; margin-right: 0.222em;'>,</span><span class='MJXp-mn' id='MJXp-Span-75'>7</span><span class='MJXp-mo' id='MJXp-Span-76' style='margin-left: 0em; margin-right: 0.222em;'>,</span><span class='MJXp-mn' id='MJXp-Span-77'>8</span><span class='MJXp-mo' id='MJXp-Span-78' style='margin-left: 0em; margin-right: 0.222em;'>,</span><span class='MJXp-mn' id='MJXp-Span-79'>9</span></span></span><span id='MathJax-Element-19-Frame' class='mjx-chtml MathJax_CHTML MJXc-processing' tabindex='0'></span><script type='math/tex' id='MathJax-Element-19'>5,6,7,8,9</script></var> の <var><span class='MathJax_Preview' style='color: inherit;'><span class='MJXp-math' id='MJXp-Span-80'><span class='MJXp-mn' id='MJXp-Span-81'>5</span></span></span><span id='MathJax-Element-20-Frame' class='mjx-chtml MathJax_CHTML MJXc-processing' tabindex='0'></span><script type='math/tex' id='MathJax-Element-20'>5</script></var> つです。</p> \n",
    "</section> \n",
    "</div> \n",
    " \n",
    "<hr> \n",
    "<div class='part'> \n",
    "<section> \n",
    "<h3>入力例 2 <span class='btn btn-default btn-sm btn-copy' tabindex='0' data-toggle='tooltip' data-trigger='manual' title='' data-target='pre-sample2' data-original-title='Copied!'>Copy</span></h3><div class='div-btn-copy'><span class='btn-copy btn-pre' tabindex='0' data-toggle='tooltip' data-trigger='manual' title='' style='display: none;' data-target='pre-sample2' data-original-title='Copied!'>Copy</span></div><pre id='pre-sample2'>4 0 \n",
    "</pre> \n",
    " \n",
    "</section> \n",
    "</div> \n",
    " \n",
    "<div class='part'> \n",
    "<section> \n",
    "<h3>出力例 2 <span class='btn btn-default btn-sm btn-copy' tabindex='0' data-toggle='tooltip' data-trigger='manual' title='' data-target='pre-sample3' data-original-title='Copied!'>Copy</span></h3><div class='div-btn-copy'><span class='btn-copy btn-pre' tabindex='0' data-toggle='tooltip' data-trigger='manual' title='' style='display: none;' data-target='pre-sample3' data-original-title='Copied!'>Copy</span></div><pre id='pre-sample3'>-3 -2 -1 0 1 2 3 \n",
    "</pre> \n",
    " \n",
    "<p>負の座標に黒で塗られている石が置かれている可能性もあります。</p> \n",
    "</section> \n",
    "</div> \n",
    " \n",
    "<hr> \n",
    "<div class='part'> \n",
    "<section> \n",
    "<h3>入力例 3 <span class='btn btn-default btn-sm btn-copy' tabindex='0' data-toggle='tooltip' data-trigger='manual' title='' data-target='pre-sample4' data-original-title='Copied!'>Copy</span></h3><div class='div-btn-copy'><span class='btn-copy btn-pre' tabindex='0' data-toggle='tooltip' data-trigger='manual' title='' style='display: none;' data-target='pre-sample4' data-original-title='Copied!'>Copy</span></div><pre id='pre-sample4'>1 100 \n",
    "</pre> \n",
    " \n",
    "</section> \n",
    "</div> \n",
    " \n",
    "<div class='part'> \n",
    "<section> \n",
    "<h3>出力例 3 <span class='btn btn-default btn-sm btn-copy' tabindex='0' data-toggle='tooltip' data-trigger='manual' title='' data-target='pre-sample5' data-original-title='Copied!'>Copy</span></h3><div class='div-btn-copy'><span class='btn-copy btn-pre' tabindex='0' data-toggle='tooltip' data-trigger='manual' title='' style='display: none;' data-target='pre-sample5' data-original-title='Copied!'>Copy</span></div><pre id='pre-sample5'>100 \n",
    "</pre></section> \n",
    "</div> \n",
    "</span>\n"
   ]
  },
  {
   "cell_type": "code",
   "execution_count": 2,
   "metadata": {
    "scrolled": true
   },
   "outputs": [
    {
     "data": {
      "application/vnd.jupyter.widget-view+json": {
       "model_id": "e27566b850a543ef8322725ea2f0bb94",
       "version_major": 2,
       "version_minor": 0
      },
      "text/plain": [
       "Textarea(value='')"
      ]
     },
     "metadata": {},
     "output_type": "display_data"
    }
   ],
   "source": [
    "from ipywidgets import Textarea\n",
    "import sys\n",
    "sys.path.append('C:/Users/taiki/github/AtCoder')\n",
    "\n",
    "from utils.multi_line_input import multi_line_input\n",
    "text_area = Textarea()\n",
    "input = multi_line_input()\n",
    "\n",
    "display(text_area)"
   ]
  },
  {
   "cell_type": "code",
   "execution_count": 27,
   "metadata": {},
   "outputs": [],
   "source": [
    "k, x = map(int, input().split())\n",
    "x_min = x-k+1\n",
    "x_max = x+k\n",
    "ans = [i for i in range(x_min, x_max)]\n",
    "print(*ans)"
   ]
  }
 ],
 "metadata": {
  "kernelspec": {
   "display_name": "Python 3",
   "language": "python",
   "name": "python3"
  },
  "language_info": {
   "codemirror_mode": {
    "name": "ipython",
    "version": 3
   },
   "file_extension": ".py",
   "mimetype": "text/x-python",
   "name": "python",
   "nbconvert_exporter": "python",
   "pygments_lexer": "ipython3",
   "version": "3.7.1"
  }
 },
 "nbformat": 4,
 "nbformat_minor": 2
}
