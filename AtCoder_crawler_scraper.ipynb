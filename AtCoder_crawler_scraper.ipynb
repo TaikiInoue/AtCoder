{
 "cells": [
  {
   "cell_type": "code",
   "execution_count": 1,
   "metadata": {},
   "outputs": [],
   "source": [
    "from selenium import webdriver\n",
    "import time\n",
    "\n",
    "import config"
   ]
  },
  {
   "cell_type": "code",
   "execution_count": 2,
   "metadata": {},
   "outputs": [],
   "source": [
    "def get_task_urls(driver, contest_url):\n",
    "    \n",
    "    driver.get(contest_url)\n",
    "    rows = driver.find_elements_by_xpath('//table/tbody//tr')\n",
    "    task_urls = []\n",
    "    for row in rows:\n",
    "        task_url = row.find_element_by_xpath('td/a').get_attribute('href')\n",
    "        task_urls.append(task_url)\n",
    "    return task_urls"
   ]
  },
  {
   "cell_type": "code",
   "execution_count": 3,
   "metadata": {},
   "outputs": [],
   "source": [
    "def create_ipynb(driver, task_url, path_ipynb):\n",
    "    \n",
    "    driver.get(task_url)\n",
    "    html = driver.page_source\n",
    "    html = html.split('<div class=\"col-sm-12\">\\n\\t\\t')[-1]\n",
    "    html = html.split('\\n<span class=\"lang-en\"')[0]\n",
    "    html = html.split('<div class=\"a2a_kit a2a_kit_size_20 a2a_default_style pull-right\"')[0]\n",
    "\n",
    "    html = html.replace('class=\"mjx-chtml MathJax_CHTML MJXc-processed\" tabindex=\"0\"',\n",
    "                        'class=\"mjx-chtml MathJax_CHTML MJXc-processed\" tabindex=\"0\" style=\"display: none;\"')\n",
    "    html = html.replace('<span class=\"btn-copy btn-pre\" tabindex=\"0\" data-toggle=\"tooltip\" data-trigger=\"manual\" title=\"\"',\n",
    "                        '<span class=\"btn-copy btn-pre\" tabindex=\"0\" data-toggle=\"tooltip\" data-trigger=\"manual\" title=\"\" style=\"display: none;\"')\n",
    "    html = html.replace('<pre class=\"prettyprint linenums source-code prettyprinted\" style=\"\">',\n",
    "                        '<pre class=\"prettyprint linenums source-code prettyprinted\" style=\"display: none;\">')\n",
    "    html = html.replace('\"', \"'\")\n",
    "    html = html.replace('\\t', '')\n",
    "    html = html.replace('\\\\', '\\\\\\\\')\n",
    "    html = html.replace('\\n', ' \\\\n\",\\n\"')\n",
    "    html = '\"' + html + '\\\\n\"'\n",
    "\n",
    "    head = '{\\n \"cells\": [\\n  {\\n   \"cell_type\": \"markdown\",\\n   \"metadata\": {},\\n   \"source\": [\\n'\n",
    "    tail = '   ]\\n  }\\n ],\\n \"metadata\": {\\n  \"kernelspec\": {\\n   \"display_name\": \"Python 3\",\\n   \"language\": \"python\",\\n   \"name\": \"python3\"\\n  },\\n  \"language_info\": {\\n   \"codemirror_mode\": {\\n    \"name\": \"ipython\",\\n    \"version\": 3\\n   },\\n   \"file_extension\": \".py\",\\n   \"mimetype\": \"text/x-python\",\\n   \"name\": \"python\",\\n   \"nbconvert_exporter\": \"python\",\\n   \"pygments_lexer\": \"ipython3\",\\n   \"version\": \"3.7.1\"\\n  }\\n },\\n \"nbformat\": 4,\\n \"nbformat_minor\": 2\\n}\\n'\n",
    "\n",
    "    with open(path_ipynb, 'w', newline='\\n', encoding='utf-8') as f:\n",
    "        f.write(head + html + tail)"
   ]
  },
  {
   "cell_type": "code",
   "execution_count": 4,
   "metadata": {},
   "outputs": [
    {
     "name": "stderr",
     "output_type": "stream",
     "text": [
      "C:\\Users\\taiki\\Anaconda3\\Lib\\site-packages\\ipykernel_launcher.py:4: DeprecationWarning: use options instead of chrome_options\n",
      "  after removing the cwd from sys.path.\n"
     ]
    }
   ],
   "source": [
    "options = webdriver.ChromeOptions()\n",
    "options.add_argument('--headless')\n",
    "options.add_argument('--disable-gpu')\n",
    "driver = webdriver.Chrome(config.path_to_chromedriver, chrome_options=options)\n",
    "driver.set_window_size(1920, 1080)\n",
    "\n",
    "alphabet = 'abcdefghijklmnopqrstuvwxyz'\n",
    "for i in range(1, 139):\n",
    "    contest_url = f'https://atcoder.jp/contests/abc{i:03}/tasks'\n",
    "    time.sleep(1)\n",
    "    task_urls = get_task_urls(driver, contest_url)\n",
    "    for j, task_url in enumerate(task_urls):\n",
    "        time.sleep(1)\n",
    "        path_ipynb = f'contests/ABC/ABC{i:03}/ABC{i:03}_{alphabet[j]}.ipynb'\n",
    "        create_ipynb(driver, task_url, path_ipynb)\n",
    "driver.close()"
   ]
  }
 ],
 "metadata": {
  "kernelspec": {
   "display_name": "Python 3",
   "language": "python",
   "name": "python3"
  },
  "language_info": {
   "codemirror_mode": {
    "name": "ipython",
    "version": 3
   },
   "file_extension": ".py",
   "mimetype": "text/x-python",
   "name": "python",
   "nbconvert_exporter": "python",
   "pygments_lexer": "ipython3",
   "version": "3.7.1"
  }
 },
 "nbformat": 4,
 "nbformat_minor": 2
}
