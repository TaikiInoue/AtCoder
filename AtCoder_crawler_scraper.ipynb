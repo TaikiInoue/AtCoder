{
 "cells": [
  {
   "cell_type": "code",
   "execution_count": 23,
   "metadata": {},
   "outputs": [],
   "source": [
    "from selenium import webdriver\n",
    "import time\n",
    "import os\n",
    "import pandas as pd\n",
    "from trello import TrelloClient\n",
    "\n",
    "import config"
   ]
  },
  {
   "cell_type": "markdown",
   "metadata": {},
   "source": [
    "# コンテストの内容を markdown 形式で ipynb に出力"
   ]
  },
  {
   "cell_type": "code",
   "execution_count": 6,
   "metadata": {},
   "outputs": [],
   "source": [
    "def get_task_urls(driver, contest_url):\n",
    "    \n",
    "    driver.get(contest_url)\n",
    "    rows = driver.find_elements_by_xpath('//table/tbody//tr')\n",
    "    task_urls = []\n",
    "    for row in rows:\n",
    "        task_url = row.find_element_by_xpath('td/a').get_attribute('href')\n",
    "        task_urls.append(task_url)\n",
    "    return task_urls\n",
    "\n",
    "def create_ipynb(driver, task_url, path_ipynb):\n",
    "    \n",
    "    driver.get(task_url)\n",
    "    html = driver.page_source\n",
    "    html = html.split('<div class=\"col-sm-12\">\\n\\t\\t')[-1]\n",
    "    html = html.split('\\n<span class=\"lang-en\"')[0]\n",
    "    html = html.split('<div class=\"a2a_kit a2a_kit_size_20 a2a_default_style pull-right\"')[0]\n",
    "\n",
    "    html = html.replace('class=\"mjx-chtml MathJax_CHTML MJXc-processed\" tabindex=\"0\"',\n",
    "                        'class=\"mjx-chtml MathJax_CHTML MJXc-processed\" tabindex=\"0\" style=\"display: none;\"')\n",
    "    html = html.replace('<span class=\"btn-copy btn-pre\" tabindex=\"0\" data-toggle=\"tooltip\" data-trigger=\"manual\" title=\"\"',\n",
    "                        '<span class=\"btn-copy btn-pre\" tabindex=\"0\" data-toggle=\"tooltip\" data-trigger=\"manual\" title=\"\" style=\"display: none;\"')\n",
    "    html = html.replace('<pre class=\"prettyprint linenums source-code prettyprinted\" style=\"\">',\n",
    "                        '<pre class=\"prettyprint linenums source-code prettyprinted\" style=\"display: none;\">')\n",
    "    html = html.replace('\"', \"'\")\n",
    "    html = html.replace('\\t', '')\n",
    "    html = html.replace('\\\\', '\\\\\\\\')\n",
    "    html = html.replace('\\n', ' \\\\n\",\\n\"')\n",
    "    html = '\"' + html + '\\\\n\"'\n",
    "\n",
    "    head = '{\\n \"cells\": [\\n  {\\n   \"cell_type\": \"markdown\",\\n   \"metadata\": {},\\n   \"source\": [\\n'\n",
    "    tail = '   ]\\n  },\\n  {\\n   \"cell_type\": \"code\",\\n   \"execution_count\": null,\\n   \"metadata\": {},\\n   \"outputs\": [],\\n   \"source\": [\\n    \"from ipywidgets import Textarea\\\\n\",\\n    \"import sys\\\\n\",\\n    \"sys.path.append(\\'../../..\\')\\\\n\",\\n    \"\\\\n\",\\n    \"from utils.multi_line_input import multi_line_input\\\\n\",\\n    \"text_area = Textarea()\\\\n\",\\n    \"input = multi_line_input()\\\\n\",\\n    \"\\\\n\",\\n    \"display(text_area)\"\\n   ]\\n  }\\n ],\\n \"metadata\": {\\n  \"kernelspec\": {\\n   \"display_name\": \"Python 3\",\\n   \"language\": \"python\",\\n   \"name\": \"python3\"\\n  },\\n  \"language_info\": {\\n   \"codemirror_mode\": {\\n    \"name\": \"ipython\",\\n    \"version\": 3\\n   },\\n   \"file_extension\": \".py\",\\n   \"mimetype\": \"text/x-python\",\\n   \"name\": \"python\",\\n   \"nbconvert_exporter\": \"python\",\\n   \"pygments_lexer\": \"ipython3\",\\n   \"version\": \"3.7.1\"\\n  }\\n },\\n \"nbformat\": 4,\\n \"nbformat_minor\": 2\\n}\\n'\n",
    "    with open(path_ipynb, 'w', newline='\\n', encoding='utf-8') as f:\n",
    "        f.write(head + html + tail)\n",
    "\n",
    "options = webdriver.ChromeOptions()\n",
    "options.add_argument('--headless')\n",
    "options.add_argument('--disable-gpu')\n",
    "driver = webdriver.Chrome(config.path_to_chromedriver, chrome_options=options)\n",
    "driver.set_window_size(1920, 1080)\n",
    "\n",
    "alphabet = 'abcdefghijklmnopqrstuvwxyz'\n",
    "for i in range(1, 140):\n",
    "    time.sleep(1)\n",
    "    contest_url = f'https://atcoder.jp/contests/abc{i:03}/tasks'\n",
    "    task_urls = get_task_urls(driver, contest_url)\n",
    "    os.mkdir(f'contests_create_new/ABC/ABC{i:03}')\n",
    "    \n",
    "    for j, task_url in enumerate(task_urls):\n",
    "        time.sleep(1)\n",
    "        path_ipynb = f'contests_create_new/ABC/ABC{i:03}/ABC{i:03}_{alphabet[j]}.ipynb'\n",
    "        create_ipynb(driver, task_url, path_ipynb)\n",
    "        \n",
    "driver.close()"
   ]
  },
  {
   "cell_type": "markdown",
   "metadata": {},
   "source": [
    "# Create New Trello Cards"
   ]
  },
  {
   "cell_type": "code",
   "execution_count": 24,
   "metadata": {},
   "outputs": [
    {
     "name": "stderr",
     "output_type": "stream",
     "text": [
      "C:\\Users\\taiki\\Anaconda3\\Lib\\site-packages\\ipykernel_launcher.py:4: DeprecationWarning: use options instead of chrome_options\n",
      "  after removing the cwd from sys.path.\n"
     ]
    }
   ],
   "source": [
    "options = webdriver.ChromeOptions()\n",
    "options.add_argument('--headless')\n",
    "options.add_argument('--disable-gpu')\n",
    "driver = webdriver.Chrome(config.path_to_chromedriver, chrome_options=options)\n",
    "driver.set_window_size(1920, 1080)\n",
    "\n",
    "di = {'contest': [],\n",
    "      'url': [],\n",
    "      'alphabet': [],\n",
    "      'task': []}\n",
    "\n",
    "for i in range(1, 140):\n",
    "    time.sleep(1)\n",
    "    contest_url = f'https://atcoder.jp/contests/abc{i:03}/tasks'\n",
    "    driver.get(contest_url)\n",
    "    rows = driver.find_elements_by_xpath('//table/tbody//tr')\n",
    "    task_urls = []\n",
    "    for row in rows:\n",
    "        di['contest'].append(f'ABC{i:03}')\n",
    "        di['url'].append(row.find_element_by_xpath('td[1]/a').get_attribute('href'))\n",
    "        di['alphabet'].append(row.find_element_by_xpath('td[1]/a').text)\n",
    "        di['task'].append(row.find_element_by_xpath('td[2]/a').text)\n",
    "        \n",
    "df = pd.DataFrame.from_dict(di)\n",
    "\n",
    "\n",
    "client = TrelloClient(\n",
    "    api_key=config.key_trello,\n",
    "    api_secret=config.secret_trello,\n",
    "    token=config.token_trello)\n",
    "\n",
    "id_board = '5d627c63629fab5643938a84'\n",
    "id_list = {'A': '5d7750ebb8fc04082063cc79',\n",
    "           'B': '5d7750ec1fcb7236fcab556f',\n",
    "           'C': '5d7750eca709b853c0d14602',\n",
    "           'D': '5d7750ecd0e7f6368cfad8b7',\n",
    "           'E': '5d7750ed11c927493f49d87d',\n",
    "           'F': '5d7750edfe8cd27a2fea6592'}\n",
    "labels = [label for label in board.get_labels() if label.name == 'todo']\n",
    "\n",
    "board = client.get_board(id_board)\n",
    "for alphabet in 'ABCDEF':\n",
    "    list_ = board.get_list(id_list[alphabet])\n",
    "    for i in df[df['alphabet']==alphabet].index:\n",
    "        contest = df.loc[i, 'contest']\n",
    "        url = df.loc[i, 'url']\n",
    "        task = df.loc[i, 'task']\n",
    "        list_.add_card(name=f'{contest} ({alphabet} - {task})',\n",
    "                       desc=url,\n",
    "                       labels=labels,\n",
    "                       position='top')"
   ]
  }
 ],
 "metadata": {
  "kernelspec": {
   "display_name": "Python 3",
   "language": "python",
   "name": "python3"
  },
  "language_info": {
   "codemirror_mode": {
    "name": "ipython",
    "version": 3
   },
   "file_extension": ".py",
   "mimetype": "text/x-python",
   "name": "python",
   "nbconvert_exporter": "python",
   "pygments_lexer": "ipython3",
   "version": "3.7.1"
  }
 },
 "nbformat": 4,
 "nbformat_minor": 2
}
